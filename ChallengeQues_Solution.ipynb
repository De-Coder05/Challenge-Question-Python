{
  "nbformat": 4,
  "nbformat_minor": 0,
  "metadata": {
    "colab": {
      "provenance": [],
      "authorship_tag": "ABX9TyNpOb+CYPERHmAaO5hssOH2",
      "include_colab_link": true
    },
    "kernelspec": {
      "name": "python3",
      "display_name": "Python 3"
    },
    "language_info": {
      "name": "python"
    }
  },
  "cells": [
    {
      "cell_type": "markdown",
      "metadata": {
        "id": "view-in-github",
        "colab_type": "text"
      },
      "source": [
        "<a href=\"https://colab.research.google.com/github/De-Coder05/Challenge-Question-Python/blob/main/ChallengeQues_Solution.ipynb\" target=\"_parent\"><img src=\"https://colab.research.google.com/assets/colab-badge.svg\" alt=\"Open In Colab\"/></a>"
      ]
    },
    {
      "cell_type": "code",
      "execution_count": 2,
      "metadata": {
        "colab": {
          "base_uri": "https://localhost:8080/"
        },
        "id": "oH0tf0oUvLkR",
        "outputId": "3b9dc517-0eed-4387-e8a6-fb737676c4e0"
      },
      "outputs": [
        {
          "output_type": "stream",
          "name": "stdout",
          "text": [
            "['Ram', 'Shyam', 'Narayan']\n",
            "[1, 3, 2]\n",
            "Sorted Strings List:  ['Narayan', 'Ram', 'Shyam']\n",
            "Sorted Integer list :  [1, 2, 3]\n",
            "Sorted Full List:  [1, 2, 3, 'Narayan', 'Ram', 'Shyam']\n"
          ]
        }
      ],
      "source": [
        "L=[1,\"Ram\",3,\"Shyam\",2,\"Narayan\"]\n",
        "strings=[]\n",
        "integers=[]\n",
        "for i in L:\n",
        "    if type(i)==str:            #splitting data into seperate lists\n",
        "        strings.append(i)\n",
        "    else:\n",
        "        integers.append(i)\n",
        "print(strings)\n",
        "print(integers)\n",
        "strings.sort()          #sorting of strings\n",
        "print(\"Sorted Strings List: \",strings)\n",
        "integers.sort()         #sorting of integers\n",
        "print(\"Sorted Integer list : \",integers)\n",
        "print(\"Sorted Full List: \",integers+strings)    #sorted list"
      ]
    }
  ]
}